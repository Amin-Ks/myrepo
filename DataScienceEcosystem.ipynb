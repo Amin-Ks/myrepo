{
 "cells": [
  {
   "cell_type": "markdown",
   "id": "5f4b9689-9a6c-421b-84ca-b1c299bfe820",
   "metadata": {},
   "source": [
    "# Data Science Tools and Ecosystem"
   ]
  },
  {
   "cell_type": "markdown",
   "id": "0761224e-7760-416e-a900-2874b5b01615",
   "metadata": {},
   "source": [
    "In this notebook, Data Science Tools and Ecosystem are summarized."
   ]
  },
  {
   "cell_type": "markdown",
   "id": "99c65bb9-dca1-4c3c-968e-8d77557e3f4e",
   "metadata": {},
   "source": [
    "**Objectives:**\n",
    "+ Pyhton\n",
    "+ R\n",
    "+ Scala"
   ]
  },
  {
   "cell_type": "markdown",
   "id": "4a02f27c-c612-414c-8e00-aa3b00da0cc4",
   "metadata": {},
   "source": [
    "Some of the popular languages that Data Scientists use are:\n",
    "\n",
    "1. Pyhton\n",
    "2. R\n",
    "3. Scala"
   ]
  },
  {
   "cell_type": "markdown",
   "id": "6acbd933-3a66-4a42-ba0d-3a88db4f8f5d",
   "metadata": {},
   "source": [
    "Some of the commonly used libraries used by Data Scientists include:\n",
    "\n",
    "1. NumPy\n",
    "2. Pandas\n",
    "3. Matplotlib"
   ]
  },
  {
   "cell_type": "markdown",
   "id": "72237dfd-7b63-417c-9842-bc129fe3fdea",
   "metadata": {},
   "source": [
    "| Data Science Tools |\n",
    "| ------------------ |\n",
    "|      Spyder        |\n",
    "|    JupyterLab      |\n",
    "|      RStudio       |"
   ]
  },
  {
   "cell_type": "markdown",
   "id": "b65acc2e-82e9-4c4a-a2e0-61b67b334f81",
   "metadata": {},
   "source": [
    "### Below are a few examples of evaluating arithmetic expressions in Python."
   ]
  },
  {
   "cell_type": "code",
   "execution_count": 3,
   "id": "f7ab466d-107a-43f8-b20a-0d16843e9a05",
   "metadata": {},
   "outputs": [
    {
     "data": {
      "text/plain": [
       "17"
      ]
     },
     "execution_count": 3,
     "metadata": {},
     "output_type": "execute_result"
    }
   ],
   "source": [
    "#This a simple arithmetic expression to mutiply then add integers.\n",
    "\n",
    "(3*4)+5"
   ]
  },
  {
   "cell_type": "code",
   "execution_count": 2,
   "id": "7bf3a08d-7cdd-4269-8db1-d05084e27142",
   "metadata": {},
   "outputs": [
    {
     "data": {
      "text/plain": [
       "3.3333333333333335"
      ]
     },
     "execution_count": 2,
     "metadata": {},
     "output_type": "execute_result"
    }
   ],
   "source": [
    "#This will convert 200 minutes to hours by diving by 60.\n",
    "200 / 60"
   ]
  },
  {
   "cell_type": "markdown",
   "id": "9d64945e-0971-4dd3-804a-88b8bab59552",
   "metadata": {},
   "source": [
    "## Author\n",
    "Mohammad Amin Karimi Sabet"
   ]
  },
  {
   "cell_type": "code",
   "execution_count": null,
   "id": "99805dd3-9042-4c97-bc3b-0d253dccd712",
   "metadata": {},
   "outputs": [],
   "source": []
  }
 ],
 "metadata": {
  "kernelspec": {
   "display_name": "Python 3 (ipykernel)",
   "language": "python",
   "name": "python3"
  },
  "language_info": {
   "codemirror_mode": {
    "name": "ipython",
    "version": 3
   },
   "file_extension": ".py",
   "mimetype": "text/x-python",
   "name": "python",
   "nbconvert_exporter": "python",
   "pygments_lexer": "ipython3",
   "version": "3.11.5"
  }
 },
 "nbformat": 4,
 "nbformat_minor": 5
}
